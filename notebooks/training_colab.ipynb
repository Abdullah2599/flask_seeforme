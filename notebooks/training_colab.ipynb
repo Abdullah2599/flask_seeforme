{
  "cells": [
    {
      "cell_type": "markdown",
      "metadata": {
        "id": "header"
      },
      "source": [
        "# 🚀 Advanced Multi-Dataset YOLOv8 Training Pipeline\n",
        "\n",
        "Complete training pipeline for 1500+ class object detection model with Pakistan-specific enhancements.\n",
        "\n",
        "## Features:\n",
        "- Automated dataset download and processing\n",
        "- Multi-dataset merging (COCO, Open Images, LVIS, Objects365)\n",
        "- Pakistan-specific data collection\n",
        "- YOLOv8x training with optimization\n",
        "- Comprehensive evaluation and visualization\n",
        "\n",
        "**⚠️ Note**: This notebook requires GPU runtime for optimal performance."
      ]
    },
    {
      "cell_type": "markdown",
      "metadata": {
        "id": "setup"
      },
      "source": [
        "## 📦 Setup and Installation"
      ]
    },
    {
      "cell_type": "code",
      "execution_count": null,
      "metadata": {
        "id": "install"
      },
      "outputs": [],
      "source": [
        "# Install required packages\n",
        "!pip install ultralytics\n",
        "!pip install transformers\n",
        "!pip install clip-by-openai\n",
        "!pip install selenium\n",
        "!pip install pandas matplotlib seaborn\n",
        "!pip install opencv-python\n",
        "!pip install tqdm pyyaml\n",
        "\n",
        "# Check GPU availability\n",
        "import torch\n",
        "print(f\"CUDA available: {torch.cuda.is_available()}\")\n",
        "if torch.cuda.is_available():\n",
        "    print(f\"GPU: {torch.cuda.get_device_name(0)}\")\n",
        "    print(f\"Memory: {torch.cuda.get_device_properties(0).total_memory / 1e9:.1f} GB\")"
      ]
    },
    {
      "cell_type": "markdown",
      "metadata": {
        "id": "download"
      },
      "source": [
        "## 📥 Dataset Download and Processing"
      ]
    },
    {
      "cell_type": "code",
      "execution_count": null,
      "metadata": {
        "id": "download_datasets"
      },
      "outputs": [],
      "source": [
        "# Clone the project repository\n",
        "!git clone https://github.com/Abdullah2599/flask_seeforme.git\n",
        "%cd flask_seeforme\n",
        "\n",
        "# Run dataset download pipeline\n",
        "!python data_pipeline/download_datasets.py\n",
        "\n",
        "# Convert datasets to YOLO format\n",
        "!python data_pipeline/convert_to_yolo.py\n",
        "\n",
        "# Merge all datasets\n",
        "!python data_pipeline/merge_datasets.py"
      ]
    },
    {
      "cell_type": "markdown",
      "metadata": {
        "id": "pakistan"
      },
      "source": [
        "## 🇵🇰 Pakistan-Specific Data Collection"
      ]
    },
    {
      "cell_type": "code",
      "execution_count": null,
      "metadata": {
        "id": "collect_pakistan"
      },
      "outputs": [],
      "source": [
        "# Install Chrome for web scraping\n",
        "!apt-get update\n",
        "!apt-get install -y chromium-browser chromium-chromedriver\n",
        "\n",
        "# Collect Pakistan-specific images\n",
        "!python regional_data/collect_pakistan_data.py\n",
        "\n",
        "# Generate pseudo-labels\n",
        "!python regional_data/pseudo_label.py"
      ]
    },
    {
      "cell_type": "markdown",
      "metadata": {
        "id": "training"
      },
      "source": [
        "## 🚂 Model Training"
      ]
    },
    {
      "cell_type": "code",
      "execution_count": null,
      "metadata": {
        "id": "train_model"
      },
      "outputs": [],
      "source": [
        "# Train custom YOLOv8x model\n",
        "!python training/train_custom_model.py \\\n",
        "    --data merged_dataset/data.yaml \\\n",
        "    --output training_output \\\n",
        "    --validate \\\n",
        "    --export pt onnx"
      ]
    },
    {
      "cell_type": "markdown",
      "metadata": {
        "id": "evaluation"
      },
      "source": [
        "## 📊 Model Evaluation"
      ]
    },
    {
      "cell_type": "code",
      "execution_count": null,
      "metadata": {
        "id": "evaluate_model"
      },
      "outputs": [],
      "source": [
        "# Run comprehensive evaluation\n",
        "!python training/evaluation.py \\\n",
        "    --model training_output/best.pt \\\n",
        "    --data merged_dataset/data.yaml \\\n",
        "    --test-images merged_dataset/test/images \\\n",
        "    --test-labels merged_dataset/test/labels \\\n",
        "    --output evaluation_results"
      ]
    },
    {
      "cell_type": "markdown",
      "metadata": {
        "id": "results"
      },
      "source": [
        "## 📈 Results Visualization"
      ]
    },
    {
      "cell_type": "code",
      "execution_count": null,
      "metadata": {
        "id": "show_results"
      },
      "outputs": [],
      "source": [
        "import json\n",
        "import matplotlib.pyplot as plt\n",
        "from IPython.display import Image, display\n",
        "\n",
        "# Load evaluation results\n",
        "with open('evaluation_results/evaluation_report.json', 'r') as f:\n",
        "    results = json.load(f)\n",
        "\n",
        "# Display key metrics\n",
        "if 'official_metrics' in results['results']:\n",
        "    metrics = results['results']['official_metrics']\n",
        "    print(\"🎯 Model Performance:\")\n",
        "    print(f\"   mAP@0.5: {metrics.get('mAP50', 0):.4f}\")\n",
        "    print(f\"   mAP@0.5:0.95: {metrics.get('mAP50_95', 0):.4f}\")\n",
        "    print(f\"   Precision: {metrics.get('precision', 0):.4f}\")\n",
        "    print(f\"   Recall: {metrics.get('recall', 0):.4f}\")\n",
        "\n",
        "# Display visualizations\n",
        "print(\"\\n📊 Performance Analysis:\")\n",
        "display(Image('evaluation_results/performance_analysis.png'))\n",
        "\n",
        "print(\"\\n🔍 Sample Predictions:\")\n",
        "display(Image('evaluation_results/sample_predictions.png'))"
      ]
    },
    {
      "cell_type": "markdown",
      "metadata": {
        "id": "deployment"
      },
      "source": [
        "## 🚀 Model Deployment"
      ]
    },
    {
      "cell_type": "code",
      "execution_count": null,
      "metadata": {
        "id": "deploy_model"
      },
      "outputs": [],
      "source": [
        "# Test the trained model\n",
        "from ultralytics import YOLO\n",
        "from PIL import Image\n",
        "import matplotlib.pyplot as plt\n",
        "\n",
        "# Load trained model\n",
        "model = YOLO('training_output/best.pt')\n",
        "\n",
        "# Test on sample image\n",
        "test_image = 'merged_dataset/test/images/sample_001.jpg'\n",
        "results = model(test_image)\n",
        "\n",
        "# Display results\n",
        "results[0].show()\n",
        "\n",
        "print(f\"\\n✅ Model ready for deployment!\")\n",
        "print(f\"📁 Model file: training_output/best.pt\")\n",
        "print(f\"🏷️  Classes: {len(model.names)}\")\n",
        "print(f\"📊 Model size: {os.path.getsize('training_output/best.pt') / (1024*1024):.1f} MB\")"
      ]
    },
    {
      "cell_type": "markdown",
      "metadata": {
        "id": "download_model"
      },
      "source": [
        "## 💾 Download Trained Model"
      ]
    },
    {
      "cell_type": "code",
      "execution_count": null,
      "metadata": {
        "id": "download_files"
      },
      "outputs": [],
      "source": [
        "# Create deployment package\n",
        "import zipfile\n",
        "import os\n",
        "\n",
        "# Create deployment zip\n",
        "with zipfile.ZipFile('yolov8_custom_model.zip', 'w') as zipf:\n",
        "    # Add model file\n",
        "    zipf.write('training_output/best.pt', 'yolov8_custom_model.pt')\n",
        "    \n",
        "    # Add classes file\n",
        "    zipf.write('merged_dataset/classes.txt', 'classes.txt')\n",
        "    \n",
        "    # Add evaluation report\n",
        "    zipf.write('evaluation_results/evaluation_report.json', 'evaluation_report.json')\n",
        "    \n",
        "    # Add Flask backend files\n",
        "    zipf.write('app.py', 'app.py')\n",
        "    zipf.write('flask_backend/model_manager.py', 'flask_backend/model_manager.py')\n",
        "    zipf.write('requirements.txt', 'requirements.txt')\n",
        "\n",
        "print(\"📦 Deployment package created: yolov8_custom_model.zip\")\n",
        "print(\"\\n📋 Package contents:\")\n",
        "print(\"   - yolov8_custom_model.pt (trained model)\")\n",
        "print(\"   - classes.txt (class names)\")\n",
        "print(\"   - evaluation_report.json (performance metrics)\")\n",
        "print(\"   - Flask backend files\")\n",
        "\n",
        "# Download the package\n",
        "from google.colab import files\n",
        "files.download('yolov8_custom_model.zip')"
      ]
    }
  ],
  "metadata": {
    "accelerator": "GPU",
    "colab": {
      "gpuType": "T4",
      "provenance": []
    },
    "kernelspec": {
      "display_name": "Python 3",
      "name": "python3"
    },
    "language_info": {
      "name": "python"
    }
  },
  "nbformat": 4,
  "nbformat_minor": 0
}
